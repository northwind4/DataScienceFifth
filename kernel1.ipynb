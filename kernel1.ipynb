{
  "cells": [
    {
      "metadata": {
        "_uuid": "6993ceddbf323ef13923ae460f8002777c802ea3"
      },
      "cell_type": "markdown",
      "source": "### Manipulating Data Frames with Pandas\n* Indexing data frames\n* Slicing data frames\n* Filtering data frames\n* Transforming data frames\n* Index objects and labeled data\n*  Hierarchical indexing\n* Pivoting data frames\n* Stacking and unstacking data frames\n* Melting data frames\n* Categoricals and groupby"
    },
    {
      "metadata": {
        "_uuid": "8f2839f25d086af736a60e9eeb907d3b93b6e0e5",
        "_cell_guid": "b1076dfc-b9ad-4769-8c92-a6c4dae69d19",
        "trusted": true
      },
      "cell_type": "code",
      "source": "# This Python 3 environment comes with many helpful analytics libraries installed\n# It is defined by the kaggle/python docker image: https://github.com/kaggle/docker-python\n# For example, here's several helpful packages to load in \n\nimport numpy as np # linear algebra\nimport pandas as pd # data processing, CSV file I/O (e.g. pd.read_csv)\nimport matplotlib.pyplot as plt\n\n# Input data files are available in the \"../input/\" directory.\n# For example, running this (by clicking run or pressing Shift+Enter) will list the files in the input directory\n\nimport os\nprint(os.listdir(\"../input\"))\n\n# Any results you write to the current directory are saved as output.",
      "execution_count": null,
      "outputs": []
    },
    {
      "metadata": {
        "_cell_guid": "79c7e3d0-c299-4dcb-8224-4455121ee9b0",
        "_uuid": "d629ff2d2480ee46fbb7e2d37f6b5fab8052498a",
        "trusted": true
      },
      "cell_type": "code",
      "source": "data = pd.read_csv('../input/2016.csv')\ndata.head()",
      "execution_count": null,
      "outputs": []
    },
    {
      "metadata": {
        "_uuid": "63d480a8f8cd829f89d7a5964cf0d0b2304e4107"
      },
      "cell_type": "markdown",
      "source": "### INDEXING DATA FRAMES\n* Indexing using square brackets\n* Using column attribute and row label\n* Using loc accessor\n* Selecting only some columns"
    },
    {
      "metadata": {
        "trusted": true,
        "_uuid": "64c3987e8a6ee478af3faf1cffa92966c0d2f612"
      },
      "cell_type": "code",
      "source": "data = data.set_index('Happiness Rank')\ndata.head()",
      "execution_count": null,
      "outputs": []
    },
    {
      "metadata": {
        "_uuid": "6e8e52ee8c1d339bb8c62b126daf3066861a2fc1"
      },
      "cell_type": "markdown",
      "source": "Indexing using square brackets. We can access a value of what we entered an index"
    },
    {
      "metadata": {
        "trusted": true,
        "_uuid": "e2e1d7b9c2e48a548918cf5a223fa9f7c03c1922"
      },
      "cell_type": "code",
      "source": "data['Happiness Score'][1]",
      "execution_count": null,
      "outputs": []
    },
    {
      "metadata": {
        "_uuid": "1dbf82de330bd0ea0605558c545aebcf23228194"
      },
      "cell_type": "markdown",
      "source": "There is a different way to use column attributes and row label."
    },
    {
      "metadata": {
        "trusted": true,
        "_uuid": "e971411ba50ad2d65dc2e96c265b87e5e1a89e29"
      },
      "cell_type": "code",
      "source": "data.Region[10]",
      "execution_count": null,
      "outputs": []
    },
    {
      "metadata": {
        "_uuid": "492d0c03edfd1e904b8638b4f09f0f5ee4be96e8"
      },
      "cell_type": "markdown",
      "source": "So when we want to use ' Loc ' accessor :"
    },
    {
      "metadata": {
        "trusted": true,
        "_uuid": "11db9560f597fc71af1f1cc19e3582b5ac780a69"
      },
      "cell_type": "code",
      "source": "data.loc[1,['Region']]",
      "execution_count": null,
      "outputs": []
    },
    {
      "metadata": {
        "_uuid": "a57327d2932bad15f1074404530f632bfdd1b421"
      },
      "cell_type": "markdown",
      "source": "When we want to focus especially some columns, we can use this term :"
    },
    {
      "metadata": {
        "trusted": true,
        "_uuid": "baf566b4a28a04ee95f56994431073f0b359599b"
      },
      "cell_type": "code",
      "source": "data[['Region', 'Happiness Score']]",
      "execution_count": null,
      "outputs": []
    },
    {
      "metadata": {
        "_uuid": "dd23d21332c0278c9d0e6b8808886db9b12a859a"
      },
      "cell_type": "markdown",
      "source": "### SLICING DATA FRAME\n* Difference between selecting columns\n    * Series and data frames\n* Slicing and indexing series\n* Reverse slicing \n* From something to end"
    },
    {
      "metadata": {
        "_uuid": "13f307e8aa51b49e4c21f2f5588af8dfef7a0092"
      },
      "cell_type": "markdown",
      "source": "Difference between selecting columns: series and dataframes"
    },
    {
      "metadata": {
        "trusted": true,
        "_uuid": "a68892b4a86a763747cb550fca15e2a9735b1dab"
      },
      "cell_type": "code",
      "source": "print(type(data[\"Region\"]))     # series\nprint(type(data[[\"Region\"]]))   # data frames",
      "execution_count": null,
      "outputs": []
    },
    {
      "metadata": {
        "_uuid": "96f393aa66fdc083e903a475282f2bb2817e7b6c"
      },
      "cell_type": "markdown",
      "source": "Slicing and indexing series : "
    },
    {
      "metadata": {
        "trusted": true,
        "_uuid": "8de52127ef767772654f7569a458c2b790b9318b"
      },
      "cell_type": "code",
      "source": "data.loc[1:10,\"Region\":\"Freedom\"] ",
      "execution_count": null,
      "outputs": []
    },
    {
      "metadata": {
        "_uuid": "0a8e2343660265084275ee6ac07a9371522e9924"
      },
      "cell_type": "markdown",
      "source": "There is the reverse version of slicing : "
    },
    {
      "metadata": {
        "trusted": true,
        "_uuid": "e999fc8eded5c2c74d845c737b76eddc093a89fc"
      },
      "cell_type": "code",
      "source": "data.loc[10:1:-1,\"Region\":\"Freedom\"] ",
      "execution_count": null,
      "outputs": []
    },
    {
      "metadata": {
        "trusted": true,
        "_uuid": "a4c11cf896bfd898524a1719362db3015a5cd62f"
      },
      "cell_type": "code",
      "source": "data.loc[1:10,\"Trust (Government Corruption)\":] #From a column to end",
      "execution_count": null,
      "outputs": []
    },
    {
      "metadata": {
        "_uuid": "efd78687b8e80d23776006d429763729073851c2"
      },
      "cell_type": "markdown",
      "source": "### FILTERING DATA FRAMES\nCreating boolean series\nCombining filters\nFiltering column based others"
    },
    {
      "metadata": {
        "trusted": true,
        "_uuid": "b2585ced8e33375a67a744dbc5a711d38bae954a"
      },
      "cell_type": "code",
      "source": "boolean = data['Happiness Score'] > 7.000\ndata[boolean]",
      "execution_count": null,
      "outputs": []
    },
    {
      "metadata": {
        "_uuid": "49e611795639b2996f61c49d7393ecf845f753c0"
      },
      "cell_type": "markdown",
      "source": "Combining two different filter."
    },
    {
      "metadata": {
        "trusted": true,
        "_uuid": "8696caa10b2ef49c2f4d55895c20764eff25dcd9"
      },
      "cell_type": "code",
      "source": "boolean1 = data['Region'] == 'Western Europe'\nboolean2 = data['Freedom'] < 0.5\ndata[boolean1 & boolean2]",
      "execution_count": null,
      "outputs": []
    },
    {
      "metadata": {
        "_uuid": "3b037f66d006ae99494fe4912609bceaeea1fc6e"
      },
      "cell_type": "markdown",
      "source": "Filtering column based antoher column."
    },
    {
      "metadata": {
        "trusted": true,
        "_uuid": "2ca2d6155f2ea9000446c6c56ef71e389a385dc2"
      },
      "cell_type": "code",
      "source": "data.Region[data.Generosity < 0.1]",
      "execution_count": null,
      "outputs": []
    },
    {
      "metadata": {
        "_uuid": "f4604e2f2ecc6c9fcc9498087619759799c81dd6"
      },
      "cell_type": "markdown",
      "source": "### TRANSFORMING DATA\n* Plain python functions\n* Lambda function: to apply arbitrary python function to every element\n* Defining column using other columns"
    },
    {
      "metadata": {
        "trusted": true,
        "_uuid": "a9632fbff12a6d49ba9a07e2c22ec8b15e470d49"
      },
      "cell_type": "code",
      "source": "# Plain python functions\ndef div(n):\n    return n/2\ndata['Happiness Score'].apply(div)",
      "execution_count": null,
      "outputs": []
    },
    {
      "metadata": {
        "trusted": true,
        "_uuid": "fbade30cde211b895a2f6a30f6c96cda0d1d41e0"
      },
      "cell_type": "code",
      "source": "#lambda function\ndata['Generosity'].apply(lambda n : n/2)",
      "execution_count": null,
      "outputs": []
    },
    {
      "metadata": {
        "trusted": true,
        "_uuid": "d831058b0e8c0974385d2b7ef798f42c2276e221"
      },
      "cell_type": "code",
      "source": "# Defining column using other columns\ndata[\"Confidence\"] = (data['Lower Confidence Interval'] + data['Upper Confidence Interval']) / 2\ndata.head()",
      "execution_count": null,
      "outputs": []
    },
    {
      "metadata": {
        "_uuid": "a3615408e71c53792a570b2916dbe1ca359e1b91"
      },
      "cell_type": "markdown",
      "source": "### INDEX OBJECTS AND LABELED DATA\nindex: sequence of label"
    },
    {
      "metadata": {
        "trusted": true,
        "_uuid": "0dec629c517cee57d0e81965264706629f8a65f0"
      },
      "cell_type": "code",
      "source": "# our index name is this:\nprint(data.index.name)\n# lets change it\ndata.index.name = \"index_name\"\ndata.head()",
      "execution_count": 43,
      "outputs": [
        {
          "output_type": "stream",
          "text": "Happiness Rank\n",
          "name": "stdout"
        },
        {
          "output_type": "execute_result",
          "execution_count": 43,
          "data": {
            "text/plain": "                Country    ...     Confidence\nindex_name                 ...               \n1               Denmark    ...          7.526\n2           Switzerland    ...          7.509\n3               Iceland    ...          7.501\n4                Norway    ...          7.498\n5               Finland    ...          7.413\n\n[5 rows x 13 columns]",
            "text/html": "<div>\n<style scoped>\n    .dataframe tbody tr th:only-of-type {\n        vertical-align: middle;\n    }\n\n    .dataframe tbody tr th {\n        vertical-align: top;\n    }\n\n    .dataframe thead th {\n        text-align: right;\n    }\n</style>\n<table border=\"1\" class=\"dataframe\">\n  <thead>\n    <tr style=\"text-align: right;\">\n      <th></th>\n      <th>Country</th>\n      <th>Region</th>\n      <th>Happiness Score</th>\n      <th>Lower Confidence Interval</th>\n      <th>Upper Confidence Interval</th>\n      <th>Economy (GDP per Capita)</th>\n      <th>Family</th>\n      <th>Health (Life Expectancy)</th>\n      <th>Freedom</th>\n      <th>Trust (Government Corruption)</th>\n      <th>Generosity</th>\n      <th>Dystopia Residual</th>\n      <th>Confidence</th>\n    </tr>\n    <tr>\n      <th>index_name</th>\n      <th></th>\n      <th></th>\n      <th></th>\n      <th></th>\n      <th></th>\n      <th></th>\n      <th></th>\n      <th></th>\n      <th></th>\n      <th></th>\n      <th></th>\n      <th></th>\n      <th></th>\n    </tr>\n  </thead>\n  <tbody>\n    <tr>\n      <th>1</th>\n      <td>Denmark</td>\n      <td>Western Europe</td>\n      <td>7.526</td>\n      <td>7.460</td>\n      <td>7.592</td>\n      <td>1.44178</td>\n      <td>1.16374</td>\n      <td>0.79504</td>\n      <td>0.57941</td>\n      <td>0.44453</td>\n      <td>0.36171</td>\n      <td>2.73939</td>\n      <td>7.526</td>\n    </tr>\n    <tr>\n      <th>2</th>\n      <td>Switzerland</td>\n      <td>Western Europe</td>\n      <td>7.509</td>\n      <td>7.428</td>\n      <td>7.590</td>\n      <td>1.52733</td>\n      <td>1.14524</td>\n      <td>0.86303</td>\n      <td>0.58557</td>\n      <td>0.41203</td>\n      <td>0.28083</td>\n      <td>2.69463</td>\n      <td>7.509</td>\n    </tr>\n    <tr>\n      <th>3</th>\n      <td>Iceland</td>\n      <td>Western Europe</td>\n      <td>7.501</td>\n      <td>7.333</td>\n      <td>7.669</td>\n      <td>1.42666</td>\n      <td>1.18326</td>\n      <td>0.86733</td>\n      <td>0.56624</td>\n      <td>0.14975</td>\n      <td>0.47678</td>\n      <td>2.83137</td>\n      <td>7.501</td>\n    </tr>\n    <tr>\n      <th>4</th>\n      <td>Norway</td>\n      <td>Western Europe</td>\n      <td>7.498</td>\n      <td>7.421</td>\n      <td>7.575</td>\n      <td>1.57744</td>\n      <td>1.12690</td>\n      <td>0.79579</td>\n      <td>0.59609</td>\n      <td>0.35776</td>\n      <td>0.37895</td>\n      <td>2.66465</td>\n      <td>7.498</td>\n    </tr>\n    <tr>\n      <th>5</th>\n      <td>Finland</td>\n      <td>Western Europe</td>\n      <td>7.413</td>\n      <td>7.351</td>\n      <td>7.475</td>\n      <td>1.40598</td>\n      <td>1.13464</td>\n      <td>0.81091</td>\n      <td>0.57104</td>\n      <td>0.41004</td>\n      <td>0.25492</td>\n      <td>2.82596</td>\n      <td>7.413</td>\n    </tr>\n  </tbody>\n</table>\n</div>"
          },
          "metadata": {}
        }
      ]
    },
    {
      "metadata": {
        "trusted": true,
        "_uuid": "7ddd39923e95fbad4be9a813ab8d3a1c8e885aab"
      },
      "cell_type": "code",
      "source": "# Overwrite index\n# if we want to modify index we need to change all of them.\ndata.head()\n# first copy of our data to data3 then change index \ndata1 = data.copy()\n# lets make index start from 100. It is not remarkable change but it is just example\ndata1.index = range(100,257,1)\ndata1.head()",
      "execution_count": 45,
      "outputs": [
        {
          "output_type": "execute_result",
          "execution_count": 45,
          "data": {
            "text/plain": "         Country          Region     ...      Dystopia Residual  Confidence\n100      Denmark  Western Europe     ...                2.73939       7.526\n101  Switzerland  Western Europe     ...                2.69463       7.509\n102      Iceland  Western Europe     ...                2.83137       7.501\n103       Norway  Western Europe     ...                2.66465       7.498\n104      Finland  Western Europe     ...                2.82596       7.413\n\n[5 rows x 13 columns]",
            "text/html": "<div>\n<style scoped>\n    .dataframe tbody tr th:only-of-type {\n        vertical-align: middle;\n    }\n\n    .dataframe tbody tr th {\n        vertical-align: top;\n    }\n\n    .dataframe thead th {\n        text-align: right;\n    }\n</style>\n<table border=\"1\" class=\"dataframe\">\n  <thead>\n    <tr style=\"text-align: right;\">\n      <th></th>\n      <th>Country</th>\n      <th>Region</th>\n      <th>Happiness Score</th>\n      <th>Lower Confidence Interval</th>\n      <th>Upper Confidence Interval</th>\n      <th>Economy (GDP per Capita)</th>\n      <th>Family</th>\n      <th>Health (Life Expectancy)</th>\n      <th>Freedom</th>\n      <th>Trust (Government Corruption)</th>\n      <th>Generosity</th>\n      <th>Dystopia Residual</th>\n      <th>Confidence</th>\n    </tr>\n  </thead>\n  <tbody>\n    <tr>\n      <th>100</th>\n      <td>Denmark</td>\n      <td>Western Europe</td>\n      <td>7.526</td>\n      <td>7.460</td>\n      <td>7.592</td>\n      <td>1.44178</td>\n      <td>1.16374</td>\n      <td>0.79504</td>\n      <td>0.57941</td>\n      <td>0.44453</td>\n      <td>0.36171</td>\n      <td>2.73939</td>\n      <td>7.526</td>\n    </tr>\n    <tr>\n      <th>101</th>\n      <td>Switzerland</td>\n      <td>Western Europe</td>\n      <td>7.509</td>\n      <td>7.428</td>\n      <td>7.590</td>\n      <td>1.52733</td>\n      <td>1.14524</td>\n      <td>0.86303</td>\n      <td>0.58557</td>\n      <td>0.41203</td>\n      <td>0.28083</td>\n      <td>2.69463</td>\n      <td>7.509</td>\n    </tr>\n    <tr>\n      <th>102</th>\n      <td>Iceland</td>\n      <td>Western Europe</td>\n      <td>7.501</td>\n      <td>7.333</td>\n      <td>7.669</td>\n      <td>1.42666</td>\n      <td>1.18326</td>\n      <td>0.86733</td>\n      <td>0.56624</td>\n      <td>0.14975</td>\n      <td>0.47678</td>\n      <td>2.83137</td>\n      <td>7.501</td>\n    </tr>\n    <tr>\n      <th>103</th>\n      <td>Norway</td>\n      <td>Western Europe</td>\n      <td>7.498</td>\n      <td>7.421</td>\n      <td>7.575</td>\n      <td>1.57744</td>\n      <td>1.12690</td>\n      <td>0.79579</td>\n      <td>0.59609</td>\n      <td>0.35776</td>\n      <td>0.37895</td>\n      <td>2.66465</td>\n      <td>7.498</td>\n    </tr>\n    <tr>\n      <th>104</th>\n      <td>Finland</td>\n      <td>Western Europe</td>\n      <td>7.413</td>\n      <td>7.351</td>\n      <td>7.475</td>\n      <td>1.40598</td>\n      <td>1.13464</td>\n      <td>0.81091</td>\n      <td>0.57104</td>\n      <td>0.41004</td>\n      <td>0.25492</td>\n      <td>2.82596</td>\n      <td>7.413</td>\n    </tr>\n  </tbody>\n</table>\n</div>"
          },
          "metadata": {}
        }
      ]
    },
    {
      "metadata": {
        "_uuid": "34dbef3cfa08cb1874ec263882171e421fe092ba"
      },
      "cell_type": "markdown",
      "source": "### HIERARCHICAL INDEXING\n* Setting indexing"
    },
    {
      "metadata": {
        "trusted": true,
        "_uuid": "10a40cc34d44c5768c69be39f89e562310b0c71c"
      },
      "cell_type": "code",
      "source": "# lets read data frame one more time to start from beginning\ndata = pd.read_csv('../input/2016.csv')\ndata.head()\n# As you can see there is index. However we want to set one or more column to be index",
      "execution_count": 46,
      "outputs": [
        {
          "output_type": "execute_result",
          "execution_count": 46,
          "data": {
            "text/plain": "       Country          Region        ...          Generosity  Dystopia Residual\n0      Denmark  Western Europe        ...             0.36171            2.73939\n1  Switzerland  Western Europe        ...             0.28083            2.69463\n2      Iceland  Western Europe        ...             0.47678            2.83137\n3       Norway  Western Europe        ...             0.37895            2.66465\n4      Finland  Western Europe        ...             0.25492            2.82596\n\n[5 rows x 13 columns]",
            "text/html": "<div>\n<style scoped>\n    .dataframe tbody tr th:only-of-type {\n        vertical-align: middle;\n    }\n\n    .dataframe tbody tr th {\n        vertical-align: top;\n    }\n\n    .dataframe thead th {\n        text-align: right;\n    }\n</style>\n<table border=\"1\" class=\"dataframe\">\n  <thead>\n    <tr style=\"text-align: right;\">\n      <th></th>\n      <th>Country</th>\n      <th>Region</th>\n      <th>Happiness Rank</th>\n      <th>Happiness Score</th>\n      <th>Lower Confidence Interval</th>\n      <th>Upper Confidence Interval</th>\n      <th>Economy (GDP per Capita)</th>\n      <th>Family</th>\n      <th>Health (Life Expectancy)</th>\n      <th>Freedom</th>\n      <th>Trust (Government Corruption)</th>\n      <th>Generosity</th>\n      <th>Dystopia Residual</th>\n    </tr>\n  </thead>\n  <tbody>\n    <tr>\n      <th>0</th>\n      <td>Denmark</td>\n      <td>Western Europe</td>\n      <td>1</td>\n      <td>7.526</td>\n      <td>7.460</td>\n      <td>7.592</td>\n      <td>1.44178</td>\n      <td>1.16374</td>\n      <td>0.79504</td>\n      <td>0.57941</td>\n      <td>0.44453</td>\n      <td>0.36171</td>\n      <td>2.73939</td>\n    </tr>\n    <tr>\n      <th>1</th>\n      <td>Switzerland</td>\n      <td>Western Europe</td>\n      <td>2</td>\n      <td>7.509</td>\n      <td>7.428</td>\n      <td>7.590</td>\n      <td>1.52733</td>\n      <td>1.14524</td>\n      <td>0.86303</td>\n      <td>0.58557</td>\n      <td>0.41203</td>\n      <td>0.28083</td>\n      <td>2.69463</td>\n    </tr>\n    <tr>\n      <th>2</th>\n      <td>Iceland</td>\n      <td>Western Europe</td>\n      <td>3</td>\n      <td>7.501</td>\n      <td>7.333</td>\n      <td>7.669</td>\n      <td>1.42666</td>\n      <td>1.18326</td>\n      <td>0.86733</td>\n      <td>0.56624</td>\n      <td>0.14975</td>\n      <td>0.47678</td>\n      <td>2.83137</td>\n    </tr>\n    <tr>\n      <th>3</th>\n      <td>Norway</td>\n      <td>Western Europe</td>\n      <td>4</td>\n      <td>7.498</td>\n      <td>7.421</td>\n      <td>7.575</td>\n      <td>1.57744</td>\n      <td>1.12690</td>\n      <td>0.79579</td>\n      <td>0.59609</td>\n      <td>0.35776</td>\n      <td>0.37895</td>\n      <td>2.66465</td>\n    </tr>\n    <tr>\n      <th>4</th>\n      <td>Finland</td>\n      <td>Western Europe</td>\n      <td>5</td>\n      <td>7.413</td>\n      <td>7.351</td>\n      <td>7.475</td>\n      <td>1.40598</td>\n      <td>1.13464</td>\n      <td>0.81091</td>\n      <td>0.57104</td>\n      <td>0.41004</td>\n      <td>0.25492</td>\n      <td>2.82596</td>\n    </tr>\n  </tbody>\n</table>\n</div>"
          },
          "metadata": {}
        }
      ]
    },
    {
      "metadata": {
        "trusted": true,
        "_uuid": "70818878ee68b7d021e00913b93e9d534683569f"
      },
      "cell_type": "code",
      "source": "# Setting index : type 1 is outer type 2 is inner index\ndata1 = data.set_index([\"Happiness Score\",\"Family\"]) \ndata1.head(100)\n# data1.loc[\"Fire\",\"Flying\"] # howw to use indexes",
      "execution_count": 50,
      "outputs": [
        {
          "output_type": "execute_result",
          "execution_count": 50,
          "data": {
            "text/plain": "                                        Country        ...        Dystopia Residual\nHappiness Score Family                                 ...                         \n7.526           1.16374                 Denmark        ...                  2.73939\n7.509           1.14524             Switzerland        ...                  2.69463\n7.501           1.18326                 Iceland        ...                  2.83137\n7.498           1.12690                  Norway        ...                  2.66465\n7.413           1.13464                 Finland        ...                  2.82596\n7.404           1.09610                  Canada        ...                  2.70485\n7.339           1.02912             Netherlands        ...                  2.70749\n7.334           1.17278             New Zealand        ...                  2.47553\n7.313           1.10476               Australia        ...                  2.54650\n7.291           1.08764                  Sweden        ...                  2.54734\n7.267           0.99537                  Israel        ...                  3.31029\n7.119           1.08383                 Austria        ...                  2.69343\n7.104           1.04782           United States        ...                  2.72782\n7.087           1.02152              Costa Rica        ...                  3.35168\n7.039           1.08113             Puerto Rico        ...                  3.00760\n6.994           1.09774                 Germany        ...                  2.50931\n6.952           1.03938                  Brazil        ...                  3.50733\n6.929           1.05249                 Belgium        ...                  2.61355\n6.907           1.16157                 Ireland        ...                  2.15988\n6.871           1.03999              Luxembourg        ...                  2.11055\n6.778           0.71460                  Mexico        ...                  3.55906\n6.739           0.86758               Singapore        ...                  1.99375\n6.725           1.08672          United Kingdom        ...                  2.14999\n6.705           0.90587                   Chile        ...                  2.95505\n6.701           0.98912                  Panama        ...                  3.00559\n6.650           1.06612               Argentina        ...                  3.12985\n6.596           1.00793          Czech Republic        ...                  2.96211\n6.573           0.87114    United Arab Emirates        ...                  2.21507\n6.545           1.03143                 Uruguay        ...                  2.67139\n6.488           1.09879                   Malta        ...                  1.99032\n...                                         ...        ...                      ...\n5.528           0.72803                 Romania        ...                  2.45184\n5.517           1.05163                 Estonia        ...                  1.81985\n5.510           0.96372                 Jamaica        ...                  2.35682\n5.488           0.60809                 Croatia        ...                  2.52462\n5.458           0.87021               Hong Kong        ...                  0.92614\n5.440           0.33613                 Somalia        ...                  3.83772\n5.401           0.66062                  Kosovo        ...                  2.80998\n5.389           0.87717                  Turkey        ...                  2.29074\n5.314           0.87625               Indonesia        ...                  2.03171\n5.303           0.86216                  Jordan        ...                  2.20142\n5.291           0.76042              Azerbaijan        ...                  2.27350\n5.279           0.87877             Philippines        ...                  2.23484\n5.245           0.79381                   China        ...                  2.17087\n5.196           0.90836                  Bhutan        ...                  1.82916\n5.185           0.95434              Kyrgyzstan        ...                  2.28136\n5.177           0.81329                  Serbia        ...                  2.27539\n5.163           0.64367  Bosnia and Herzegovina        ...                  2.48406\n5.161           0.74173              Montenegro        ...                  2.25531\n5.155           0.99496      Dominican Republic        ...                  1.69626\n5.151           0.38595                 Morocco        ...                  2.94891\n5.145           0.93164                 Hungary        ...                  1.95473\n5.132           0.26135                Pakistan        ...                  3.18286\n5.129           0.64184                 Lebanon        ...                  2.07339\n5.123           0.94367                Portugal        ...                  1.53015\n5.121           0.78236               Macedonia        ...                  2.08947\n5.061           0.79117                 Vietnam        ...                  1.94180\n5.057           0.75862       Somaliland Region        ...                  2.43801\n5.045           0.43165                 Tunisia        ...                  2.68413\n5.033           0.75473                  Greece        ...                  2.12944\n4.996           0.75602              Tajikistan        ...                  2.39106\n\n[100 rows x 11 columns]",
            "text/html": "<div>\n<style scoped>\n    .dataframe tbody tr th:only-of-type {\n        vertical-align: middle;\n    }\n\n    .dataframe tbody tr th {\n        vertical-align: top;\n    }\n\n    .dataframe thead th {\n        text-align: right;\n    }\n</style>\n<table border=\"1\" class=\"dataframe\">\n  <thead>\n    <tr style=\"text-align: right;\">\n      <th></th>\n      <th></th>\n      <th>Country</th>\n      <th>Region</th>\n      <th>Happiness Rank</th>\n      <th>Lower Confidence Interval</th>\n      <th>Upper Confidence Interval</th>\n      <th>Economy (GDP per Capita)</th>\n      <th>Health (Life Expectancy)</th>\n      <th>Freedom</th>\n      <th>Trust (Government Corruption)</th>\n      <th>Generosity</th>\n      <th>Dystopia Residual</th>\n    </tr>\n    <tr>\n      <th>Happiness Score</th>\n      <th>Family</th>\n      <th></th>\n      <th></th>\n      <th></th>\n      <th></th>\n      <th></th>\n      <th></th>\n      <th></th>\n      <th></th>\n      <th></th>\n      <th></th>\n      <th></th>\n    </tr>\n  </thead>\n  <tbody>\n    <tr>\n      <th>7.526</th>\n      <th>1.16374</th>\n      <td>Denmark</td>\n      <td>Western Europe</td>\n      <td>1</td>\n      <td>7.460</td>\n      <td>7.592</td>\n      <td>1.44178</td>\n      <td>0.79504</td>\n      <td>0.57941</td>\n      <td>0.44453</td>\n      <td>0.36171</td>\n      <td>2.73939</td>\n    </tr>\n    <tr>\n      <th>7.509</th>\n      <th>1.14524</th>\n      <td>Switzerland</td>\n      <td>Western Europe</td>\n      <td>2</td>\n      <td>7.428</td>\n      <td>7.590</td>\n      <td>1.52733</td>\n      <td>0.86303</td>\n      <td>0.58557</td>\n      <td>0.41203</td>\n      <td>0.28083</td>\n      <td>2.69463</td>\n    </tr>\n    <tr>\n      <th>7.501</th>\n      <th>1.18326</th>\n      <td>Iceland</td>\n      <td>Western Europe</td>\n      <td>3</td>\n      <td>7.333</td>\n      <td>7.669</td>\n      <td>1.42666</td>\n      <td>0.86733</td>\n      <td>0.56624</td>\n      <td>0.14975</td>\n      <td>0.47678</td>\n      <td>2.83137</td>\n    </tr>\n    <tr>\n      <th>7.498</th>\n      <th>1.12690</th>\n      <td>Norway</td>\n      <td>Western Europe</td>\n      <td>4</td>\n      <td>7.421</td>\n      <td>7.575</td>\n      <td>1.57744</td>\n      <td>0.79579</td>\n      <td>0.59609</td>\n      <td>0.35776</td>\n      <td>0.37895</td>\n      <td>2.66465</td>\n    </tr>\n    <tr>\n      <th>7.413</th>\n      <th>1.13464</th>\n      <td>Finland</td>\n      <td>Western Europe</td>\n      <td>5</td>\n      <td>7.351</td>\n      <td>7.475</td>\n      <td>1.40598</td>\n      <td>0.81091</td>\n      <td>0.57104</td>\n      <td>0.41004</td>\n      <td>0.25492</td>\n      <td>2.82596</td>\n    </tr>\n    <tr>\n      <th>7.404</th>\n      <th>1.09610</th>\n      <td>Canada</td>\n      <td>North America</td>\n      <td>6</td>\n      <td>7.335</td>\n      <td>7.473</td>\n      <td>1.44015</td>\n      <td>0.82760</td>\n      <td>0.57370</td>\n      <td>0.31329</td>\n      <td>0.44834</td>\n      <td>2.70485</td>\n    </tr>\n    <tr>\n      <th>7.339</th>\n      <th>1.02912</th>\n      <td>Netherlands</td>\n      <td>Western Europe</td>\n      <td>7</td>\n      <td>7.284</td>\n      <td>7.394</td>\n      <td>1.46468</td>\n      <td>0.81231</td>\n      <td>0.55211</td>\n      <td>0.29927</td>\n      <td>0.47416</td>\n      <td>2.70749</td>\n    </tr>\n    <tr>\n      <th>7.334</th>\n      <th>1.17278</th>\n      <td>New Zealand</td>\n      <td>Australia and New Zealand</td>\n      <td>8</td>\n      <td>7.264</td>\n      <td>7.404</td>\n      <td>1.36066</td>\n      <td>0.83096</td>\n      <td>0.58147</td>\n      <td>0.41904</td>\n      <td>0.49401</td>\n      <td>2.47553</td>\n    </tr>\n    <tr>\n      <th>7.313</th>\n      <th>1.10476</th>\n      <td>Australia</td>\n      <td>Australia and New Zealand</td>\n      <td>9</td>\n      <td>7.241</td>\n      <td>7.385</td>\n      <td>1.44443</td>\n      <td>0.85120</td>\n      <td>0.56837</td>\n      <td>0.32331</td>\n      <td>0.47407</td>\n      <td>2.54650</td>\n    </tr>\n    <tr>\n      <th>7.291</th>\n      <th>1.08764</th>\n      <td>Sweden</td>\n      <td>Western Europe</td>\n      <td>10</td>\n      <td>7.227</td>\n      <td>7.355</td>\n      <td>1.45181</td>\n      <td>0.83121</td>\n      <td>0.58218</td>\n      <td>0.40867</td>\n      <td>0.38254</td>\n      <td>2.54734</td>\n    </tr>\n    <tr>\n      <th>7.267</th>\n      <th>0.99537</th>\n      <td>Israel</td>\n      <td>Middle East and Northern Africa</td>\n      <td>11</td>\n      <td>7.199</td>\n      <td>7.335</td>\n      <td>1.33766</td>\n      <td>0.84917</td>\n      <td>0.36432</td>\n      <td>0.08728</td>\n      <td>0.32288</td>\n      <td>3.31029</td>\n    </tr>\n    <tr>\n      <th>7.119</th>\n      <th>1.08383</th>\n      <td>Austria</td>\n      <td>Western Europe</td>\n      <td>12</td>\n      <td>7.045</td>\n      <td>7.193</td>\n      <td>1.45038</td>\n      <td>0.80565</td>\n      <td>0.54355</td>\n      <td>0.21348</td>\n      <td>0.32865</td>\n      <td>2.69343</td>\n    </tr>\n    <tr>\n      <th>7.104</th>\n      <th>1.04782</th>\n      <td>United States</td>\n      <td>North America</td>\n      <td>13</td>\n      <td>7.020</td>\n      <td>7.188</td>\n      <td>1.50796</td>\n      <td>0.77900</td>\n      <td>0.48163</td>\n      <td>0.14868</td>\n      <td>0.41077</td>\n      <td>2.72782</td>\n    </tr>\n    <tr>\n      <th>7.087</th>\n      <th>1.02152</th>\n      <td>Costa Rica</td>\n      <td>Latin America and Caribbean</td>\n      <td>14</td>\n      <td>6.999</td>\n      <td>7.175</td>\n      <td>1.06879</td>\n      <td>0.76146</td>\n      <td>0.55225</td>\n      <td>0.10547</td>\n      <td>0.22553</td>\n      <td>3.35168</td>\n    </tr>\n    <tr>\n      <th>7.039</th>\n      <th>1.08113</th>\n      <td>Puerto Rico</td>\n      <td>Latin America and Caribbean</td>\n      <td>15</td>\n      <td>6.794</td>\n      <td>7.284</td>\n      <td>1.35943</td>\n      <td>0.77758</td>\n      <td>0.46823</td>\n      <td>0.12275</td>\n      <td>0.22202</td>\n      <td>3.00760</td>\n    </tr>\n    <tr>\n      <th>6.994</th>\n      <th>1.09774</th>\n      <td>Germany</td>\n      <td>Western Europe</td>\n      <td>16</td>\n      <td>6.930</td>\n      <td>7.058</td>\n      <td>1.44787</td>\n      <td>0.81487</td>\n      <td>0.53466</td>\n      <td>0.28551</td>\n      <td>0.30452</td>\n      <td>2.50931</td>\n    </tr>\n    <tr>\n      <th>6.952</th>\n      <th>1.03938</th>\n      <td>Brazil</td>\n      <td>Latin America and Caribbean</td>\n      <td>17</td>\n      <td>6.875</td>\n      <td>7.029</td>\n      <td>1.08754</td>\n      <td>0.61415</td>\n      <td>0.40425</td>\n      <td>0.14166</td>\n      <td>0.15776</td>\n      <td>3.50733</td>\n    </tr>\n    <tr>\n      <th>6.929</th>\n      <th>1.05249</th>\n      <td>Belgium</td>\n      <td>Western Europe</td>\n      <td>18</td>\n      <td>6.861</td>\n      <td>6.997</td>\n      <td>1.42539</td>\n      <td>0.81959</td>\n      <td>0.51354</td>\n      <td>0.26248</td>\n      <td>0.24240</td>\n      <td>2.61355</td>\n    </tr>\n    <tr>\n      <th>6.907</th>\n      <th>1.16157</th>\n      <td>Ireland</td>\n      <td>Western Europe</td>\n      <td>19</td>\n      <td>6.836</td>\n      <td>6.978</td>\n      <td>1.48341</td>\n      <td>0.81455</td>\n      <td>0.54008</td>\n      <td>0.29754</td>\n      <td>0.44963</td>\n      <td>2.15988</td>\n    </tr>\n    <tr>\n      <th>6.871</th>\n      <th>1.03999</th>\n      <td>Luxembourg</td>\n      <td>Western Europe</td>\n      <td>20</td>\n      <td>6.804</td>\n      <td>6.938</td>\n      <td>1.69752</td>\n      <td>0.84542</td>\n      <td>0.54870</td>\n      <td>0.35329</td>\n      <td>0.27571</td>\n      <td>2.11055</td>\n    </tr>\n    <tr>\n      <th>6.778</th>\n      <th>0.71460</th>\n      <td>Mexico</td>\n      <td>Latin America and Caribbean</td>\n      <td>21</td>\n      <td>6.680</td>\n      <td>6.876</td>\n      <td>1.11508</td>\n      <td>0.71143</td>\n      <td>0.37709</td>\n      <td>0.18355</td>\n      <td>0.11735</td>\n      <td>3.55906</td>\n    </tr>\n    <tr>\n      <th>6.739</th>\n      <th>0.86758</th>\n      <td>Singapore</td>\n      <td>Southeastern Asia</td>\n      <td>22</td>\n      <td>6.674</td>\n      <td>6.804</td>\n      <td>1.64555</td>\n      <td>0.94719</td>\n      <td>0.48770</td>\n      <td>0.46987</td>\n      <td>0.32706</td>\n      <td>1.99375</td>\n    </tr>\n    <tr>\n      <th>6.725</th>\n      <th>1.08672</th>\n      <td>United Kingdom</td>\n      <td>Western Europe</td>\n      <td>23</td>\n      <td>6.647</td>\n      <td>6.803</td>\n      <td>1.40283</td>\n      <td>0.80991</td>\n      <td>0.50036</td>\n      <td>0.27399</td>\n      <td>0.50156</td>\n      <td>2.14999</td>\n    </tr>\n    <tr>\n      <th>6.705</th>\n      <th>0.90587</th>\n      <td>Chile</td>\n      <td>Latin America and Caribbean</td>\n      <td>24</td>\n      <td>6.615</td>\n      <td>6.795</td>\n      <td>1.21670</td>\n      <td>0.81883</td>\n      <td>0.37789</td>\n      <td>0.11451</td>\n      <td>0.31595</td>\n      <td>2.95505</td>\n    </tr>\n    <tr>\n      <th>6.701</th>\n      <th>0.98912</th>\n      <td>Panama</td>\n      <td>Latin America and Caribbean</td>\n      <td>25</td>\n      <td>6.601</td>\n      <td>6.801</td>\n      <td>1.18306</td>\n      <td>0.70835</td>\n      <td>0.48927</td>\n      <td>0.08423</td>\n      <td>0.24180</td>\n      <td>3.00559</td>\n    </tr>\n    <tr>\n      <th>6.650</th>\n      <th>1.06612</th>\n      <td>Argentina</td>\n      <td>Latin America and Caribbean</td>\n      <td>26</td>\n      <td>6.560</td>\n      <td>6.740</td>\n      <td>1.15137</td>\n      <td>0.69711</td>\n      <td>0.42284</td>\n      <td>0.07296</td>\n      <td>0.10989</td>\n      <td>3.12985</td>\n    </tr>\n    <tr>\n      <th>6.596</th>\n      <th>1.00793</th>\n      <td>Czech Republic</td>\n      <td>Central and Eastern Europe</td>\n      <td>27</td>\n      <td>6.515</td>\n      <td>6.677</td>\n      <td>1.30915</td>\n      <td>0.76376</td>\n      <td>0.41418</td>\n      <td>0.03986</td>\n      <td>0.09929</td>\n      <td>2.96211</td>\n    </tr>\n    <tr>\n      <th>6.573</th>\n      <th>0.87114</th>\n      <td>United Arab Emirates</td>\n      <td>Middle East and Northern Africa</td>\n      <td>28</td>\n      <td>6.494</td>\n      <td>6.652</td>\n      <td>1.57352</td>\n      <td>0.72993</td>\n      <td>0.56215</td>\n      <td>0.35561</td>\n      <td>0.26591</td>\n      <td>2.21507</td>\n    </tr>\n    <tr>\n      <th>6.545</th>\n      <th>1.03143</th>\n      <td>Uruguay</td>\n      <td>Latin America and Caribbean</td>\n      <td>29</td>\n      <td>6.456</td>\n      <td>6.634</td>\n      <td>1.18157</td>\n      <td>0.72183</td>\n      <td>0.54388</td>\n      <td>0.21394</td>\n      <td>0.18056</td>\n      <td>2.67139</td>\n    </tr>\n    <tr>\n      <th>6.488</th>\n      <th>1.09879</th>\n      <td>Malta</td>\n      <td>Western Europe</td>\n      <td>30</td>\n      <td>6.409</td>\n      <td>6.567</td>\n      <td>1.30782</td>\n      <td>0.80315</td>\n      <td>0.54994</td>\n      <td>0.17554</td>\n      <td>0.56237</td>\n      <td>1.99032</td>\n    </tr>\n    <tr>\n      <th>...</th>\n      <th>...</th>\n      <td>...</td>\n      <td>...</td>\n      <td>...</td>\n      <td>...</td>\n      <td>...</td>\n      <td>...</td>\n      <td>...</td>\n      <td>...</td>\n      <td>...</td>\n      <td>...</td>\n      <td>...</td>\n    </tr>\n    <tr>\n      <th>5.528</th>\n      <th>0.72803</th>\n      <td>Romania</td>\n      <td>Central and Eastern Europe</td>\n      <td>71</td>\n      <td>5.427</td>\n      <td>5.629</td>\n      <td>1.16970</td>\n      <td>0.67602</td>\n      <td>0.36712</td>\n      <td>0.00679</td>\n      <td>0.12889</td>\n      <td>2.45184</td>\n    </tr>\n    <tr>\n      <th>5.517</th>\n      <th>1.05163</th>\n      <td>Estonia</td>\n      <td>Central and Eastern Europe</td>\n      <td>72</td>\n      <td>5.437</td>\n      <td>5.597</td>\n      <td>1.27964</td>\n      <td>0.68098</td>\n      <td>0.41511</td>\n      <td>0.18519</td>\n      <td>0.08423</td>\n      <td>1.81985</td>\n    </tr>\n    <tr>\n      <th>5.510</th>\n      <th>0.96372</th>\n      <td>Jamaica</td>\n      <td>Latin America and Caribbean</td>\n      <td>73</td>\n      <td>5.315</td>\n      <td>5.705</td>\n      <td>0.89333</td>\n      <td>0.59469</td>\n      <td>0.43597</td>\n      <td>0.04294</td>\n      <td>0.22245</td>\n      <td>2.35682</td>\n    </tr>\n    <tr>\n      <th>5.488</th>\n      <th>0.60809</th>\n      <td>Croatia</td>\n      <td>Central and Eastern Europe</td>\n      <td>74</td>\n      <td>5.402</td>\n      <td>5.574</td>\n      <td>1.18649</td>\n      <td>0.70524</td>\n      <td>0.23907</td>\n      <td>0.04002</td>\n      <td>0.18434</td>\n      <td>2.52462</td>\n    </tr>\n    <tr>\n      <th>5.458</th>\n      <th>0.87021</th>\n      <td>Hong Kong</td>\n      <td>Eastern Asia</td>\n      <td>75</td>\n      <td>5.362</td>\n      <td>5.554</td>\n      <td>1.51070</td>\n      <td>0.95277</td>\n      <td>0.48079</td>\n      <td>0.31647</td>\n      <td>0.40097</td>\n      <td>0.92614</td>\n    </tr>\n    <tr>\n      <th>5.440</th>\n      <th>0.33613</th>\n      <td>Somalia</td>\n      <td>Sub-Saharan Africa</td>\n      <td>76</td>\n      <td>5.321</td>\n      <td>5.559</td>\n      <td>0.00000</td>\n      <td>0.11466</td>\n      <td>0.56778</td>\n      <td>0.31180</td>\n      <td>0.27225</td>\n      <td>3.83772</td>\n    </tr>\n    <tr>\n      <th>5.401</th>\n      <th>0.66062</th>\n      <td>Kosovo</td>\n      <td>Central and Eastern Europe</td>\n      <td>77</td>\n      <td>5.308</td>\n      <td>5.494</td>\n      <td>0.90145</td>\n      <td>0.54000</td>\n      <td>0.14396</td>\n      <td>0.06547</td>\n      <td>0.27992</td>\n      <td>2.80998</td>\n    </tr>\n    <tr>\n      <th>5.389</th>\n      <th>0.87717</th>\n      <td>Turkey</td>\n      <td>Middle East and Northern Africa</td>\n      <td>78</td>\n      <td>5.295</td>\n      <td>5.483</td>\n      <td>1.16492</td>\n      <td>0.64718</td>\n      <td>0.23889</td>\n      <td>0.12348</td>\n      <td>0.04707</td>\n      <td>2.29074</td>\n    </tr>\n    <tr>\n      <th>5.314</th>\n      <th>0.87625</th>\n      <td>Indonesia</td>\n      <td>Southeastern Asia</td>\n      <td>79</td>\n      <td>5.237</td>\n      <td>5.391</td>\n      <td>0.95104</td>\n      <td>0.49374</td>\n      <td>0.39237</td>\n      <td>0.00322</td>\n      <td>0.56521</td>\n      <td>2.03171</td>\n    </tr>\n    <tr>\n      <th>5.303</th>\n      <th>0.86216</th>\n      <td>Jordan</td>\n      <td>Middle East and Northern Africa</td>\n      <td>80</td>\n      <td>5.187</td>\n      <td>5.419</td>\n      <td>0.99673</td>\n      <td>0.60712</td>\n      <td>0.36023</td>\n      <td>0.13297</td>\n      <td>0.14262</td>\n      <td>2.20142</td>\n    </tr>\n    <tr>\n      <th>5.291</th>\n      <th>0.76042</th>\n      <td>Azerbaijan</td>\n      <td>Central and Eastern Europe</td>\n      <td>81</td>\n      <td>5.226</td>\n      <td>5.356</td>\n      <td>1.12373</td>\n      <td>0.54504</td>\n      <td>0.35327</td>\n      <td>0.17914</td>\n      <td>0.05640</td>\n      <td>2.27350</td>\n    </tr>\n    <tr>\n      <th>5.279</th>\n      <th>0.87877</th>\n      <td>Philippines</td>\n      <td>Southeastern Asia</td>\n      <td>82</td>\n      <td>5.160</td>\n      <td>5.398</td>\n      <td>0.81217</td>\n      <td>0.47036</td>\n      <td>0.54854</td>\n      <td>0.11757</td>\n      <td>0.21674</td>\n      <td>2.23484</td>\n    </tr>\n    <tr>\n      <th>5.245</th>\n      <th>0.79381</th>\n      <td>China</td>\n      <td>Eastern Asia</td>\n      <td>83</td>\n      <td>5.199</td>\n      <td>5.291</td>\n      <td>1.02780</td>\n      <td>0.73561</td>\n      <td>0.44012</td>\n      <td>0.02745</td>\n      <td>0.04959</td>\n      <td>2.17087</td>\n    </tr>\n    <tr>\n      <th>5.196</th>\n      <th>0.90836</th>\n      <td>Bhutan</td>\n      <td>Southern Asia</td>\n      <td>84</td>\n      <td>5.138</td>\n      <td>5.254</td>\n      <td>0.85270</td>\n      <td>0.49759</td>\n      <td>0.46074</td>\n      <td>0.16160</td>\n      <td>0.48546</td>\n      <td>1.82916</td>\n    </tr>\n    <tr>\n      <th>5.185</th>\n      <th>0.95434</th>\n      <td>Kyrgyzstan</td>\n      <td>Central and Eastern Europe</td>\n      <td>85</td>\n      <td>5.103</td>\n      <td>5.267</td>\n      <td>0.56044</td>\n      <td>0.55449</td>\n      <td>0.40212</td>\n      <td>0.04762</td>\n      <td>0.38432</td>\n      <td>2.28136</td>\n    </tr>\n    <tr>\n      <th>5.177</th>\n      <th>0.81329</th>\n      <td>Serbia</td>\n      <td>Central and Eastern Europe</td>\n      <td>86</td>\n      <td>5.083</td>\n      <td>5.271</td>\n      <td>1.03437</td>\n      <td>0.64580</td>\n      <td>0.15718</td>\n      <td>0.04339</td>\n      <td>0.20737</td>\n      <td>2.27539</td>\n    </tr>\n    <tr>\n      <th>5.163</th>\n      <th>0.64367</th>\n      <td>Bosnia and Herzegovina</td>\n      <td>Central and Eastern Europe</td>\n      <td>87</td>\n      <td>5.063</td>\n      <td>5.263</td>\n      <td>0.93383</td>\n      <td>0.70766</td>\n      <td>0.09511</td>\n      <td>0.00000</td>\n      <td>0.29889</td>\n      <td>2.48406</td>\n    </tr>\n    <tr>\n      <th>5.161</th>\n      <th>0.74173</th>\n      <td>Montenegro</td>\n      <td>Central and Eastern Europe</td>\n      <td>88</td>\n      <td>5.055</td>\n      <td>5.267</td>\n      <td>1.07838</td>\n      <td>0.63533</td>\n      <td>0.15111</td>\n      <td>0.12721</td>\n      <td>0.17191</td>\n      <td>2.25531</td>\n    </tr>\n    <tr>\n      <th>5.155</th>\n      <th>0.99496</th>\n      <td>Dominican Republic</td>\n      <td>Latin America and Caribbean</td>\n      <td>89</td>\n      <td>5.037</td>\n      <td>5.273</td>\n      <td>1.02787</td>\n      <td>0.57669</td>\n      <td>0.52259</td>\n      <td>0.12372</td>\n      <td>0.21286</td>\n      <td>1.69626</td>\n    </tr>\n    <tr>\n      <th>5.151</th>\n      <th>0.38595</th>\n      <td>Morocco</td>\n      <td>Middle East and Northern Africa</td>\n      <td>90</td>\n      <td>5.058</td>\n      <td>5.244</td>\n      <td>0.84058</td>\n      <td>0.59471</td>\n      <td>0.25646</td>\n      <td>0.08404</td>\n      <td>0.04053</td>\n      <td>2.94891</td>\n    </tr>\n    <tr>\n      <th>5.145</th>\n      <th>0.93164</th>\n      <td>Hungary</td>\n      <td>Central and Eastern Europe</td>\n      <td>91</td>\n      <td>5.056</td>\n      <td>5.234</td>\n      <td>1.24142</td>\n      <td>0.67608</td>\n      <td>0.19770</td>\n      <td>0.04472</td>\n      <td>0.09900</td>\n      <td>1.95473</td>\n    </tr>\n    <tr>\n      <th>5.132</th>\n      <th>0.26135</th>\n      <td>Pakistan</td>\n      <td>Southern Asia</td>\n      <td>92</td>\n      <td>5.038</td>\n      <td>5.226</td>\n      <td>0.68816</td>\n      <td>0.40306</td>\n      <td>0.14622</td>\n      <td>0.13880</td>\n      <td>0.31185</td>\n      <td>3.18286</td>\n    </tr>\n    <tr>\n      <th>5.129</th>\n      <th>0.64184</th>\n      <td>Lebanon</td>\n      <td>Middle East and Northern Africa</td>\n      <td>93</td>\n      <td>5.031</td>\n      <td>5.227</td>\n      <td>1.12268</td>\n      <td>0.76171</td>\n      <td>0.26228</td>\n      <td>0.03061</td>\n      <td>0.23693</td>\n      <td>2.07339</td>\n    </tr>\n    <tr>\n      <th>5.123</th>\n      <th>0.94367</th>\n      <td>Portugal</td>\n      <td>Western Europe</td>\n      <td>94</td>\n      <td>5.030</td>\n      <td>5.216</td>\n      <td>1.27607</td>\n      <td>0.79363</td>\n      <td>0.44727</td>\n      <td>0.01521</td>\n      <td>0.11691</td>\n      <td>1.53015</td>\n    </tr>\n    <tr>\n      <th>5.121</th>\n      <th>0.78236</th>\n      <td>Macedonia</td>\n      <td>Central and Eastern Europe</td>\n      <td>95</td>\n      <td>5.017</td>\n      <td>5.225</td>\n      <td>1.01930</td>\n      <td>0.64738</td>\n      <td>0.27668</td>\n      <td>0.07047</td>\n      <td>0.23507</td>\n      <td>2.08947</td>\n    </tr>\n    <tr>\n      <th>5.061</th>\n      <th>0.79117</th>\n      <td>Vietnam</td>\n      <td>Southeastern Asia</td>\n      <td>96</td>\n      <td>4.991</td>\n      <td>5.131</td>\n      <td>0.74037</td>\n      <td>0.66157</td>\n      <td>0.55954</td>\n      <td>0.11556</td>\n      <td>0.25075</td>\n      <td>1.94180</td>\n    </tr>\n    <tr>\n      <th>5.057</th>\n      <th>0.75862</th>\n      <td>Somaliland Region</td>\n      <td>Sub-Saharan Africa</td>\n      <td>97</td>\n      <td>4.934</td>\n      <td>5.180</td>\n      <td>0.25558</td>\n      <td>0.33108</td>\n      <td>0.39130</td>\n      <td>0.36794</td>\n      <td>0.51479</td>\n      <td>2.43801</td>\n    </tr>\n    <tr>\n      <th>5.045</th>\n      <th>0.43165</th>\n      <td>Tunisia</td>\n      <td>Middle East and Northern Africa</td>\n      <td>98</td>\n      <td>4.965</td>\n      <td>5.125</td>\n      <td>0.97724</td>\n      <td>0.59577</td>\n      <td>0.23553</td>\n      <td>0.08170</td>\n      <td>0.03936</td>\n      <td>2.68413</td>\n    </tr>\n    <tr>\n      <th>5.033</th>\n      <th>0.75473</th>\n      <td>Greece</td>\n      <td>Western Europe</td>\n      <td>99</td>\n      <td>4.935</td>\n      <td>5.131</td>\n      <td>1.24886</td>\n      <td>0.80029</td>\n      <td>0.05822</td>\n      <td>0.04127</td>\n      <td>0.00000</td>\n      <td>2.12944</td>\n    </tr>\n    <tr>\n      <th>4.996</th>\n      <th>0.75602</th>\n      <td>Tajikistan</td>\n      <td>Central and Eastern Europe</td>\n      <td>100</td>\n      <td>4.923</td>\n      <td>5.069</td>\n      <td>0.48835</td>\n      <td>0.53119</td>\n      <td>0.43408</td>\n      <td>0.13509</td>\n      <td>0.25998</td>\n      <td>2.39106</td>\n    </tr>\n  </tbody>\n</table>\n<p>100 rows × 11 columns</p>\n</div>"
          },
          "metadata": {}
        }
      ]
    },
    {
      "metadata": {
        "_uuid": "783ca9c8831a6045765edaf81f28ea5efe379ca6"
      },
      "cell_type": "markdown",
      "source": "\nPIVOTING DATA FRAMES\n\n * Pivoting: reshape tool\n\n"
    },
    {
      "metadata": {
        "trusted": true,
        "_uuid": "1bfd2b9f1eba9fa80e303eb1ee3814119d3c3eb0"
      },
      "cell_type": "code",
      "source": "dic = {\"cure\":[\"A\",\"A\",\"B\",\"B\"],\"gender\":[\"F\",\"M\",\"F\",\"M\"],\"response to cure\":[10,45,5,9],\"age\":[23,18,53,49]}\ndf = pd.DataFrame(dic)\ndf",
      "execution_count": 51,
      "outputs": [
        {
          "output_type": "execute_result",
          "execution_count": 51,
          "data": {
            "text/plain": "  cure gender  response to cure  age\n0    A      F                10   23\n1    A      M                45   18\n2    B      F                 5   53\n3    B      M                 9   49",
            "text/html": "<div>\n<style scoped>\n    .dataframe tbody tr th:only-of-type {\n        vertical-align: middle;\n    }\n\n    .dataframe tbody tr th {\n        vertical-align: top;\n    }\n\n    .dataframe thead th {\n        text-align: right;\n    }\n</style>\n<table border=\"1\" class=\"dataframe\">\n  <thead>\n    <tr style=\"text-align: right;\">\n      <th></th>\n      <th>cure</th>\n      <th>gender</th>\n      <th>response to cure</th>\n      <th>age</th>\n    </tr>\n  </thead>\n  <tbody>\n    <tr>\n      <th>0</th>\n      <td>A</td>\n      <td>F</td>\n      <td>10</td>\n      <td>23</td>\n    </tr>\n    <tr>\n      <th>1</th>\n      <td>A</td>\n      <td>M</td>\n      <td>45</td>\n      <td>18</td>\n    </tr>\n    <tr>\n      <th>2</th>\n      <td>B</td>\n      <td>F</td>\n      <td>5</td>\n      <td>53</td>\n    </tr>\n    <tr>\n      <th>3</th>\n      <td>B</td>\n      <td>M</td>\n      <td>9</td>\n      <td>49</td>\n    </tr>\n  </tbody>\n</table>\n</div>"
          },
          "metadata": {}
        }
      ]
    },
    {
      "metadata": {
        "trusted": true,
        "_uuid": "9b2b6116b5bcbbef1d824e408687cc1a65e98e11"
      },
      "cell_type": "code",
      "source": "# pivoting\ndf.pivot(index=\"cure\",columns = \"gender\",values=\"response to cure\")",
      "execution_count": 52,
      "outputs": [
        {
          "output_type": "execute_result",
          "execution_count": 52,
          "data": {
            "text/plain": "gender   F   M\ncure          \nA       10  45\nB        5   9",
            "text/html": "<div>\n<style scoped>\n    .dataframe tbody tr th:only-of-type {\n        vertical-align: middle;\n    }\n\n    .dataframe tbody tr th {\n        vertical-align: top;\n    }\n\n    .dataframe thead th {\n        text-align: right;\n    }\n</style>\n<table border=\"1\" class=\"dataframe\">\n  <thead>\n    <tr style=\"text-align: right;\">\n      <th>gender</th>\n      <th>F</th>\n      <th>M</th>\n    </tr>\n    <tr>\n      <th>cure</th>\n      <th></th>\n      <th></th>\n    </tr>\n  </thead>\n  <tbody>\n    <tr>\n      <th>A</th>\n      <td>10</td>\n      <td>45</td>\n    </tr>\n    <tr>\n      <th>B</th>\n      <td>5</td>\n      <td>9</td>\n    </tr>\n  </tbody>\n</table>\n</div>"
          },
          "metadata": {}
        }
      ]
    },
    {
      "metadata": {
        "_uuid": "4ca1c794dfc52de5612f060143271a5b78c82981"
      },
      "cell_type": "markdown",
      "source": "### STACKING and UNSTACKING DATAFRAME\n* deal with multi label indexes\n* level: position of unstacked index\n* swaplevel: change inner and outer level index position"
    },
    {
      "metadata": {
        "trusted": true,
        "_uuid": "baa018d5ba9d820c4a20ef894eb2ca59315acff0"
      },
      "cell_type": "code",
      "source": "df1 = df.set_index([\"cure\",\"gender\"])\ndf1\n# lets unstack it",
      "execution_count": 53,
      "outputs": [
        {
          "output_type": "execute_result",
          "execution_count": 53,
          "data": {
            "text/plain": "             response to cure  age\ncure gender                       \nA    F                     10   23\n     M                     45   18\nB    F                      5   53\n     M                      9   49",
            "text/html": "<div>\n<style scoped>\n    .dataframe tbody tr th:only-of-type {\n        vertical-align: middle;\n    }\n\n    .dataframe tbody tr th {\n        vertical-align: top;\n    }\n\n    .dataframe thead th {\n        text-align: right;\n    }\n</style>\n<table border=\"1\" class=\"dataframe\">\n  <thead>\n    <tr style=\"text-align: right;\">\n      <th></th>\n      <th></th>\n      <th>response to cure</th>\n      <th>age</th>\n    </tr>\n    <tr>\n      <th>cure</th>\n      <th>gender</th>\n      <th></th>\n      <th></th>\n    </tr>\n  </thead>\n  <tbody>\n    <tr>\n      <th rowspan=\"2\" valign=\"top\">A</th>\n      <th>F</th>\n      <td>10</td>\n      <td>23</td>\n    </tr>\n    <tr>\n      <th>M</th>\n      <td>45</td>\n      <td>18</td>\n    </tr>\n    <tr>\n      <th rowspan=\"2\" valign=\"top\">B</th>\n      <th>F</th>\n      <td>5</td>\n      <td>53</td>\n    </tr>\n    <tr>\n      <th>M</th>\n      <td>9</td>\n      <td>49</td>\n    </tr>\n  </tbody>\n</table>\n</div>"
          },
          "metadata": {}
        }
      ]
    },
    {
      "metadata": {
        "trusted": true,
        "_uuid": "fa2a1b6e13f57a45339355ad7eea46a7c6775a5d"
      },
      "cell_type": "code",
      "source": "df1.unstack(level=0)",
      "execution_count": 54,
      "outputs": [
        {
          "output_type": "execute_result",
          "execution_count": 54,
          "data": {
            "text/plain": "       response to cure    age    \ncure                  A  B   A   B\ngender                            \nF                    10  5  23  53\nM                    45  9  18  49",
            "text/html": "<div>\n<style scoped>\n    .dataframe tbody tr th:only-of-type {\n        vertical-align: middle;\n    }\n\n    .dataframe tbody tr th {\n        vertical-align: top;\n    }\n\n    .dataframe thead tr th {\n        text-align: left;\n    }\n\n    .dataframe thead tr:last-of-type th {\n        text-align: right;\n    }\n</style>\n<table border=\"1\" class=\"dataframe\">\n  <thead>\n    <tr>\n      <th></th>\n      <th colspan=\"2\" halign=\"left\">response to cure</th>\n      <th colspan=\"2\" halign=\"left\">age</th>\n    </tr>\n    <tr>\n      <th>cure</th>\n      <th>A</th>\n      <th>B</th>\n      <th>A</th>\n      <th>B</th>\n    </tr>\n    <tr>\n      <th>gender</th>\n      <th></th>\n      <th></th>\n      <th></th>\n      <th></th>\n    </tr>\n  </thead>\n  <tbody>\n    <tr>\n      <th>F</th>\n      <td>10</td>\n      <td>5</td>\n      <td>23</td>\n      <td>53</td>\n    </tr>\n    <tr>\n      <th>M</th>\n      <td>45</td>\n      <td>9</td>\n      <td>18</td>\n      <td>49</td>\n    </tr>\n  </tbody>\n</table>\n</div>"
          },
          "metadata": {}
        }
      ]
    },
    {
      "metadata": {
        "trusted": true,
        "_uuid": "2f88a240cf53d8dc018c31d33a2527142c682ddf"
      },
      "cell_type": "code",
      "source": "df1.unstack(level=1)",
      "execution_count": 56,
      "outputs": [
        {
          "output_type": "execute_result",
          "execution_count": 56,
          "data": {
            "text/plain": "       response to cure     age    \ngender                F   M   F   M\ncure                               \nA                    10  45  23  18\nB                     5   9  53  49",
            "text/html": "<div>\n<style scoped>\n    .dataframe tbody tr th:only-of-type {\n        vertical-align: middle;\n    }\n\n    .dataframe tbody tr th {\n        vertical-align: top;\n    }\n\n    .dataframe thead tr th {\n        text-align: left;\n    }\n\n    .dataframe thead tr:last-of-type th {\n        text-align: right;\n    }\n</style>\n<table border=\"1\" class=\"dataframe\">\n  <thead>\n    <tr>\n      <th></th>\n      <th colspan=\"2\" halign=\"left\">response to cure</th>\n      <th colspan=\"2\" halign=\"left\">age</th>\n    </tr>\n    <tr>\n      <th>gender</th>\n      <th>F</th>\n      <th>M</th>\n      <th>F</th>\n      <th>M</th>\n    </tr>\n    <tr>\n      <th>cure</th>\n      <th></th>\n      <th></th>\n      <th></th>\n      <th></th>\n    </tr>\n  </thead>\n  <tbody>\n    <tr>\n      <th>A</th>\n      <td>10</td>\n      <td>45</td>\n      <td>23</td>\n      <td>18</td>\n    </tr>\n    <tr>\n      <th>B</th>\n      <td>5</td>\n      <td>9</td>\n      <td>53</td>\n      <td>49</td>\n    </tr>\n  </tbody>\n</table>\n</div>"
          },
          "metadata": {}
        }
      ]
    },
    {
      "metadata": {
        "trusted": true,
        "_uuid": "4906aaded8d9989814ab0ba58681ac6db8f1183e"
      },
      "cell_type": "code",
      "source": "# change inner and outer level index position\ndf2 = df1.swaplevel(0,1)\ndf2",
      "execution_count": 55,
      "outputs": [
        {
          "output_type": "execute_result",
          "execution_count": 55,
          "data": {
            "text/plain": "             response to cure  age\ngender cure                       \nF      A                   10   23\nM      A                   45   18\nF      B                    5   53\nM      B                    9   49",
            "text/html": "<div>\n<style scoped>\n    .dataframe tbody tr th:only-of-type {\n        vertical-align: middle;\n    }\n\n    .dataframe tbody tr th {\n        vertical-align: top;\n    }\n\n    .dataframe thead th {\n        text-align: right;\n    }\n</style>\n<table border=\"1\" class=\"dataframe\">\n  <thead>\n    <tr style=\"text-align: right;\">\n      <th></th>\n      <th></th>\n      <th>response to cure</th>\n      <th>age</th>\n    </tr>\n    <tr>\n      <th>gender</th>\n      <th>cure</th>\n      <th></th>\n      <th></th>\n    </tr>\n  </thead>\n  <tbody>\n    <tr>\n      <th>F</th>\n      <th>A</th>\n      <td>10</td>\n      <td>23</td>\n    </tr>\n    <tr>\n      <th>M</th>\n      <th>A</th>\n      <td>45</td>\n      <td>18</td>\n    </tr>\n    <tr>\n      <th>F</th>\n      <th>B</th>\n      <td>5</td>\n      <td>53</td>\n    </tr>\n    <tr>\n      <th>M</th>\n      <th>B</th>\n      <td>9</td>\n      <td>49</td>\n    </tr>\n  </tbody>\n</table>\n</div>"
          },
          "metadata": {}
        }
      ]
    },
    {
      "metadata": {
        "_uuid": "65f7defa368d4e4df550479b6259aac501bfa7c1"
      },
      "cell_type": "markdown",
      "source": "### MELTING DATA FRAMES\n* Reverse of pivoting"
    },
    {
      "metadata": {
        "trusted": true,
        "_uuid": "f686d3746a5d220e0f868a0119df7f0e89954c3f"
      },
      "cell_type": "code",
      "source": "df",
      "execution_count": 57,
      "outputs": [
        {
          "output_type": "execute_result",
          "execution_count": 57,
          "data": {
            "text/plain": "  cure gender  response to cure  age\n0    A      F                10   23\n1    A      M                45   18\n2    B      F                 5   53\n3    B      M                 9   49",
            "text/html": "<div>\n<style scoped>\n    .dataframe tbody tr th:only-of-type {\n        vertical-align: middle;\n    }\n\n    .dataframe tbody tr th {\n        vertical-align: top;\n    }\n\n    .dataframe thead th {\n        text-align: right;\n    }\n</style>\n<table border=\"1\" class=\"dataframe\">\n  <thead>\n    <tr style=\"text-align: right;\">\n      <th></th>\n      <th>cure</th>\n      <th>gender</th>\n      <th>response to cure</th>\n      <th>age</th>\n    </tr>\n  </thead>\n  <tbody>\n    <tr>\n      <th>0</th>\n      <td>A</td>\n      <td>F</td>\n      <td>10</td>\n      <td>23</td>\n    </tr>\n    <tr>\n      <th>1</th>\n      <td>A</td>\n      <td>M</td>\n      <td>45</td>\n      <td>18</td>\n    </tr>\n    <tr>\n      <th>2</th>\n      <td>B</td>\n      <td>F</td>\n      <td>5</td>\n      <td>53</td>\n    </tr>\n    <tr>\n      <th>3</th>\n      <td>B</td>\n      <td>M</td>\n      <td>9</td>\n      <td>49</td>\n    </tr>\n  </tbody>\n</table>\n</div>"
          },
          "metadata": {}
        }
      ]
    },
    {
      "metadata": {
        "trusted": true,
        "_uuid": "aad83ac7af505f1cf75e6f3e30d5cc409d9af28d"
      },
      "cell_type": "code",
      "source": "# df.pivot(index=\"cure\",columns = \"gender\",values=\"response to cure\")\npd.melt(df,id_vars=\"cure\",value_vars=[\"age\",\"response to cure\"])",
      "execution_count": 58,
      "outputs": [
        {
          "output_type": "execute_result",
          "execution_count": 58,
          "data": {
            "text/plain": "  cure          variable  value\n0    A               age     23\n1    A               age     18\n2    B               age     53\n3    B               age     49\n4    A  response to cure     10\n5    A  response to cure     45\n6    B  response to cure      5\n7    B  response to cure      9",
            "text/html": "<div>\n<style scoped>\n    .dataframe tbody tr th:only-of-type {\n        vertical-align: middle;\n    }\n\n    .dataframe tbody tr th {\n        vertical-align: top;\n    }\n\n    .dataframe thead th {\n        text-align: right;\n    }\n</style>\n<table border=\"1\" class=\"dataframe\">\n  <thead>\n    <tr style=\"text-align: right;\">\n      <th></th>\n      <th>cure</th>\n      <th>variable</th>\n      <th>value</th>\n    </tr>\n  </thead>\n  <tbody>\n    <tr>\n      <th>0</th>\n      <td>A</td>\n      <td>age</td>\n      <td>23</td>\n    </tr>\n    <tr>\n      <th>1</th>\n      <td>A</td>\n      <td>age</td>\n      <td>18</td>\n    </tr>\n    <tr>\n      <th>2</th>\n      <td>B</td>\n      <td>age</td>\n      <td>53</td>\n    </tr>\n    <tr>\n      <th>3</th>\n      <td>B</td>\n      <td>age</td>\n      <td>49</td>\n    </tr>\n    <tr>\n      <th>4</th>\n      <td>A</td>\n      <td>response to cure</td>\n      <td>10</td>\n    </tr>\n    <tr>\n      <th>5</th>\n      <td>A</td>\n      <td>response to cure</td>\n      <td>45</td>\n    </tr>\n    <tr>\n      <th>6</th>\n      <td>B</td>\n      <td>response to cure</td>\n      <td>5</td>\n    </tr>\n    <tr>\n      <th>7</th>\n      <td>B</td>\n      <td>response to cure</td>\n      <td>9</td>\n    </tr>\n  </tbody>\n</table>\n</div>"
          },
          "metadata": {}
        }
      ]
    },
    {
      "metadata": {
        "_uuid": "c93d958b63a570c88aab217fb4dd0f3b3993a4f4"
      },
      "cell_type": "markdown",
      "source": "<a id=\"42\"></a> <br>\n### CATEGORICALS AND GROUPBY"
    },
    {
      "metadata": {
        "trusted": true,
        "_uuid": "295a8b9a0a3bd0eda51af00a67ab468c51350851"
      },
      "cell_type": "code",
      "source": "df",
      "execution_count": 59,
      "outputs": [
        {
          "output_type": "execute_result",
          "execution_count": 59,
          "data": {
            "text/plain": "  cure gender  response to cure  age\n0    A      F                10   23\n1    A      M                45   18\n2    B      F                 5   53\n3    B      M                 9   49",
            "text/html": "<div>\n<style scoped>\n    .dataframe tbody tr th:only-of-type {\n        vertical-align: middle;\n    }\n\n    .dataframe tbody tr th {\n        vertical-align: top;\n    }\n\n    .dataframe thead th {\n        text-align: right;\n    }\n</style>\n<table border=\"1\" class=\"dataframe\">\n  <thead>\n    <tr style=\"text-align: right;\">\n      <th></th>\n      <th>cure</th>\n      <th>gender</th>\n      <th>response to cure</th>\n      <th>age</th>\n    </tr>\n  </thead>\n  <tbody>\n    <tr>\n      <th>0</th>\n      <td>A</td>\n      <td>F</td>\n      <td>10</td>\n      <td>23</td>\n    </tr>\n    <tr>\n      <th>1</th>\n      <td>A</td>\n      <td>M</td>\n      <td>45</td>\n      <td>18</td>\n    </tr>\n    <tr>\n      <th>2</th>\n      <td>B</td>\n      <td>F</td>\n      <td>5</td>\n      <td>53</td>\n    </tr>\n    <tr>\n      <th>3</th>\n      <td>B</td>\n      <td>M</td>\n      <td>9</td>\n      <td>49</td>\n    </tr>\n  </tbody>\n</table>\n</div>"
          },
          "metadata": {}
        }
      ]
    },
    {
      "metadata": {
        "trusted": true,
        "_uuid": "eaba9f29f288bbf9b64d9ec40d0da43c7424b6f4"
      },
      "cell_type": "code",
      "source": "# according to cure take means of other features\ndf.groupby(\"cure\").mean()   # mean is aggregation / reduction method\n# there are other methods like sum, std,max or min",
      "execution_count": 60,
      "outputs": [
        {
          "output_type": "execute_result",
          "execution_count": 60,
          "data": {
            "text/plain": "      response to cure   age\ncure                        \nA                 27.5  20.5\nB                  7.0  51.0",
            "text/html": "<div>\n<style scoped>\n    .dataframe tbody tr th:only-of-type {\n        vertical-align: middle;\n    }\n\n    .dataframe tbody tr th {\n        vertical-align: top;\n    }\n\n    .dataframe thead th {\n        text-align: right;\n    }\n</style>\n<table border=\"1\" class=\"dataframe\">\n  <thead>\n    <tr style=\"text-align: right;\">\n      <th></th>\n      <th>response to cure</th>\n      <th>age</th>\n    </tr>\n    <tr>\n      <th>cure</th>\n      <th></th>\n      <th></th>\n    </tr>\n  </thead>\n  <tbody>\n    <tr>\n      <th>A</th>\n      <td>27.5</td>\n      <td>20.5</td>\n    </tr>\n    <tr>\n      <th>B</th>\n      <td>7.0</td>\n      <td>51.0</td>\n    </tr>\n  </tbody>\n</table>\n</div>"
          },
          "metadata": {}
        }
      ]
    },
    {
      "metadata": {
        "_uuid": "69f238a76fd0839e482cea600bd106b76895d29f"
      },
      "cell_type": "markdown",
      "source": "We can only choose one of the feature."
    },
    {
      "metadata": {
        "trusted": true,
        "_uuid": "a9ed472cec2d72588b49e16a26c1d76ab347f423"
      },
      "cell_type": "code",
      "source": "df.groupby(\"cure\").age.max() ",
      "execution_count": 61,
      "outputs": [
        {
          "output_type": "execute_result",
          "execution_count": 61,
          "data": {
            "text/plain": "cure\nA    23\nB    53\nName: age, dtype: int64"
          },
          "metadata": {}
        }
      ]
    },
    {
      "metadata": {
        "_uuid": "1eef681b39853fa416dd688970e67541f5471df2"
      },
      "cell_type": "markdown",
      "source": "Or we can choose multiple features."
    },
    {
      "metadata": {
        "trusted": true,
        "_uuid": "11bfbd5717ed9a6183c95643dfd6d3e269cad93b"
      },
      "cell_type": "code",
      "source": "df.groupby(\"cure\")[[\"age\",\"response to cure\"]].min() ",
      "execution_count": 62,
      "outputs": [
        {
          "output_type": "execute_result",
          "execution_count": 62,
          "data": {
            "text/plain": "      age  response to cure\ncure                       \nA      18                10\nB      49                 5",
            "text/html": "<div>\n<style scoped>\n    .dataframe tbody tr th:only-of-type {\n        vertical-align: middle;\n    }\n\n    .dataframe tbody tr th {\n        vertical-align: top;\n    }\n\n    .dataframe thead th {\n        text-align: right;\n    }\n</style>\n<table border=\"1\" class=\"dataframe\">\n  <thead>\n    <tr style=\"text-align: right;\">\n      <th></th>\n      <th>age</th>\n      <th>response to cure</th>\n    </tr>\n    <tr>\n      <th>cure</th>\n      <th></th>\n      <th></th>\n    </tr>\n  </thead>\n  <tbody>\n    <tr>\n      <th>A</th>\n      <td>18</td>\n      <td>10</td>\n    </tr>\n    <tr>\n      <th>B</th>\n      <td>49</td>\n      <td>5</td>\n    </tr>\n  </tbody>\n</table>\n</div>"
          },
          "metadata": {}
        }
      ]
    },
    {
      "metadata": {
        "trusted": true,
        "_uuid": "9c280ff1c32a45a5c870308a7e60141d036e6b82"
      },
      "cell_type": "code",
      "source": "df.info()\n# as you can see gender is object\n# However if we use groupby, we can convert it categorical data. \n# Because categorical data uses less memory, speed up operations like groupby\ndf[\"gender\"] = df[\"gender\"].astype(\"category\")\ndf[\"cure\"] = df[\"cure\"].astype(\"category\")\ndf.info()",
      "execution_count": 67,
      "outputs": [
        {
          "output_type": "stream",
          "text": "<class 'pandas.core.frame.DataFrame'>\nRangeIndex: 4 entries, 0 to 3\nData columns (total 4 columns):\ncure                4 non-null category\ngender              4 non-null category\nresponse to cure    4 non-null int64\nage                 4 non-null int64\ndtypes: category(2), int64(2)\nmemory usage: 344.0 bytes\n<class 'pandas.core.frame.DataFrame'>\nRangeIndex: 4 entries, 0 to 3\nData columns (total 4 columns):\ncure                4 non-null category\ngender              4 non-null category\nresponse to cure    4 non-null int64\nage                 4 non-null int64\ndtypes: category(2), int64(2)\nmemory usage: 344.0 bytes\n",
          "name": "stdout"
        }
      ]
    }
  ],
  "metadata": {
    "kernelspec": {
      "display_name": "Python 3",
      "language": "python",
      "name": "python3"
    },
    "language_info": {
      "name": "python",
      "version": "3.6.6",
      "mimetype": "text/x-python",
      "codemirror_mode": {
        "name": "ipython",
        "version": 3
      },
      "pygments_lexer": "ipython3",
      "nbconvert_exporter": "python",
      "file_extension": ".py"
    }
  },
  "nbformat": 4,
  "nbformat_minor": 1
}